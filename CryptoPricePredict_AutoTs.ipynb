{
  "nbformat": 4,
  "nbformat_minor": 0,
  "metadata": {
    "colab": {
      "provenance": [],
      "authorship_tag": "ABX9TyNXMx8KUqsYCvkM6OL4HTPj",
      "include_colab_link": true
    },
    "kernelspec": {
      "name": "python3",
      "display_name": "Python 3"
    },
    "language_info": {
      "name": "python"
    }
  },
  "cells": [
    {
      "cell_type": "markdown",
      "metadata": {
        "id": "view-in-github",
        "colab_type": "text"
      },
      "source": [
        "<a href=\"https://colab.research.google.com/github/THREELabs/Crypto-Time-Series-Analysis/blob/main/CryptoPricePredict_AutoTs.ipynb\" target=\"_parent\"><img src=\"https://colab.research.google.com/assets/colab-badge.svg\" alt=\"Open In Colab\"/></a>"
      ]
    },
    {
      "cell_type": "code",
      "execution_count": null,
      "metadata": {
        "id": "acMhmZ9DLXtW"
      },
      "outputs": [],
      "source": [
        "import pandas as pd\n",
        "import yfinance as yf\n",
        "#collecting the latest Bitcoin prices data from Yahoo Finance, using the yfinance API.\n"
      ]
    },
    {
      "cell_type": "code",
      "source": [
        "import datetime\n",
        "from datetime import date, timedelta\n",
        "today = date.today()"
      ],
      "metadata": {
        "id": "prKCeSobLdMh"
      },
      "execution_count": null,
      "outputs": []
    },
    {
      "cell_type": "code",
      "source": [
        "d1 = today.strftime(\"%Y-%m-%d\")\n",
        "end_date = d1\n",
        "\n",
        "#price history of last 90 days\n",
        "d2 = date.today() - timedelta(days=100)\n",
        "d2 = d2.strftime(\"%Y-%m-%d\")\n",
        "start_date = d2\n",
        "\n",
        "#downloading historical data of BTC\n",
        "\n",
        "data = yf.download('GM',\n",
        "                      start=start_date,\n",
        "                      end=end_date,\n",
        "                      progress=False)\n",
        "data[\"Date\"] = data.index\n",
        "data = data[[\"Date\", \"Open\", \"High\", \"Low\", \"Close\", \"Adj Close\", \"Volume\"]]\n",
        "data.reset_index(drop=True, inplace=True)\n",
        "print(data)\n",
        "\n",
        "#cheching the shape of the data\n",
        "data.shape\n"
      ],
      "metadata": {
        "id": "qrxtWLKyL673"
      },
      "execution_count": null,
      "outputs": []
    },
    {
      "cell_type": "code",
      "source": [
        "import plotly.graph_objects as go\n",
        "figure = go.Figure(data=[go.Candlestick(x=data[\"Date\"],\n",
        "                                        open=data[\"Open\"],\n",
        "                                        high=data[\"High\"],\n",
        "                                        low=data[\"Low\"],\n",
        "                                        close=data[\"Close\"])])\n",
        "figure.update_layout(title = \"GM\",\n",
        "                     xaxis_rangeslider_visible=False)\n",
        "figure.show()"
      ],
      "metadata": {
        "id": "BTdEdL_7MU_O"
      },
      "execution_count": null,
      "outputs": []
    },
    {
      "cell_type": "code",
      "source": [
        "correlation = data.corr()\n",
        "print(correlation[\"Close\"].sort_values(ascending=False))"
      ],
      "metadata": {
        "id": "VZbvq9mjMawb"
      },
      "execution_count": null,
      "outputs": []
    },
    {
      "cell_type": "code",
      "source": [
        "!pip install autots"
      ],
      "metadata": {
        "id": "WIWAo-zCMw90"
      },
      "execution_count": null,
      "outputs": []
    },
    {
      "cell_type": "code",
      "source": [
        "#importing AutoTs for time series analysis\n",
        "from autots import AutoTS\n",
        "\n",
        "model = AutoTS(forecast_length=14, frequency='infer', ensemble='simple')\n",
        "model = model.fit(data, date_col='Date', value_col='Close', id_col=None)\n",
        "prediction = model.predict()\n",
        "forecast = prediction.forecast\n",
        "print(forecast)"
      ],
      "metadata": {
        "id": "SLVodGbrMa1l"
      },
      "execution_count": null,
      "outputs": []
    }
  ]
}